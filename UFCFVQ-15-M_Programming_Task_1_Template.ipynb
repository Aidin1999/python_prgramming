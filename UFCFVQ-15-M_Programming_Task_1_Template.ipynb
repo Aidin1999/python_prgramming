{
 "cells": [
  {
   "cell_type": "markdown",
   "metadata": {
    "deletable": false
   },
   "source": [
    " Programming for Data Science (Autumn 2023)\n"
   ]
  },
  {
   "cell_type": "markdown",
   "metadata": {},
   "source": [
    "\n"
   ]
  },
  {
   "cell_type": "markdown",
   "metadata": {
    "deletable": false
   },
   "source": [
    "# Programming Task 1"
   ]
  },
  {
   "cell_type": "markdown",
   "metadata": {
    "deletable": false
   },
   "source": [
    "### Requirement FR1 - Develop a function to read a single column from a CSV file"
   ]
  },
  {
   "cell_type": "code",
   "execution_count": 3,
   "metadata": {
    "deletable": false
   },
   "outputs": [
    {
     "name": "stdout",
     "output_type": "stream",
     "text": [
      "vaccine [76, 79, 77, 47, 84, 73, 76, 66, 86, 62, 71, 79, 79, 76, 70, 74, 85, 63, 70, 76, 67, 77, 63, 90, 65, 54, 73, 78, 60, 74, 78, 91, 76, 87, 60, 74, 70, 88, 76, 70, 72, 77, 72, 79, 75, 72, 69, 74, 69, 99, 74, 87, 80, 82, 80, 80, 71, 72, 78, 85, 80, 69, 70, 80, 71, 88, 68, 84, 55, 62, 80, 88, 70, 70, 83, 77, 83, 63, 91, 70, 100, 79, 90, 70, 64, 69, 73, 81, 81, 68, 73, 64, 98, 61, 80, 74, 67, 74, 67, 62, 64, 74, 92, 69, 71, 58, 65, 91, 72, 67, 85, 76, 60, 76, 71, 66, 58, 71, 64, 58, 47, 44, 74, 67, 74, 79, 73, 56, 70, 74, 78, 71, 80, 83, 73, 61, 62, 79, 78, 76, 80, 62, 64, 64, 65, 61, 69, 64, 83, 76, 74, 52, 70, 66, 64, 63, 65, 76, 89, 78, 68, 95, 59, 85, 78, 76, 56, 83, 53, 71, 73, 72, 78, 85, 87, 70, 77, 75, 68, 88, 69, 70, 91, 70, 68, 65, 68, 78, 71, 0, 61, 80, 84, 65, 56, 69, 78, 74, 76, 80, 67, 77, 80, 72, 60, 76, 75, 61, 89, 85]\n"
     ]
    }
   ],
   "source": [
    "def read_a_column(file_path, column_index):\n",
    "    \"\"\"\n",
    "    Reads a single column from a CSV file.\n",
    "\n",
    "    Args:\n",
    "        file_path (str): The path to the CSV file.\n",
    "        column_index (int): The index of the column to be read.\n",
    "\n",
    "    Returns:\n",
    "        tuple: A tuple containing the header (str) and the column values (list).\n",
    "\n",
    "    Raises:\n",
    "        IndexError: If the specified column index is out of bounds.\n",
    "    \"\"\"\n",
    "    # Initializing an empty list to store the column values\n",
    "    output = []\n",
    "\n",
    "    # Opening the CSV file in read mode\n",
    "    with open(file_path, 'r') as file:\n",
    "        # Reading the header line from the file\n",
    "        header_line = file.readline()\n",
    "\n",
    "        # Removing unwanted characters from the header line\n",
    "        header_line = header_line.replace(\"ï»¿\" or '\\n', \"\")\n",
    "\n",
    "        # Splitting the header line into a list of words\n",
    "        headers = header_line.split(',')\n",
    "\n",
    "        try:\n",
    "            # Extracting the header for the specified column index\n",
    "            header = headers[column_index]\n",
    "        except IndexError:\n",
    "            # Raise an IndexError if the specified column index is out of bounds\n",
    "            raise IndexError(\"Column index is out of bounds.\")\n",
    "\n",
    "        # Looping through the remaining lines in the file to extract column values\n",
    "        for line in file.readlines():\n",
    "            # Removing newline characters from each line\n",
    "            line = line.replace(\"\\n\", \"\")\n",
    "\n",
    "            # Splitting each line into a list of words\n",
    "            words = line.split(',')\n",
    "\n",
    "            try:\n",
    "                # Attempting to convert the value to an integer and appending to the output list\n",
    "                output.append(int(words[column_index]))\n",
    "            except ValueError:\n",
    "                # If conversion fails, append the value as is to the output list\n",
    "                output.append(words[column_index])\n",
    "\n",
    "    return header, output\n",
    "\n",
    "# Example usage\n",
    "header, list1 = read_a_column('task1.csv', 5)\n",
    "print(header, list1)\n"
   ]
  },
  {
   "cell_type": "markdown",
   "metadata": {
    "deletable": false
   },
   "source": [
    "### Requirement FR2 - Develop a function to read CSV data from a file into memory"
   ]
  },
  {
   "cell_type": "code",
   "execution_count": 8,
   "metadata": {
    "deletable": false
   },
   "outputs": [
    {
     "name": "stdout",
     "output_type": "stream",
     "text": [
      "{'cancer': [70, 70, 68, 53, 75, 69, 70, 63, 73, 66, 70, 63, 68, 69, 72, 65, 69, 61, 68, 67, 68, 65, 65, 68, 64, 63, 68, 69, 61, 72, 63, 75, 67, 72, 63, 69, 73, 70, 69, 73, 69, 73, 65, 70, 64, 64, 63, 68, 70, 70, 70, 62, 81, 69, 72, 69, 66, 67, 70, 84, 65, 65, 63, 81, 65, 67, 66, 67, 61, 76, 66, 70, 67, 70, 73, 63, 62, 82, 75, 65, 74, 68, 81, 76, 57, 65, 62, 64, 65, 63, 69, 65, 100, 65, 62, 66, 64, 61, 64, 60, 55, 64, 57, 63, 59, 66, 68, 70, 70, 51, 58, 57, 55, 68, 67, 72, 67, 58, 61, 60, 58, 67, 68, 66, 62, 59, 66, 64, 60, 63, 65, 55, 56, 63, 59, 60, 65, 73, 65, 65, 61, 64, 65, 63, 70, 59, 67, 68, 66, 64, 64, 65, 68, 57, 68, 65, 64, 66, 72, 68, 67, 64, 67, 57, 59, 52, 63, 58, 47, 58, 61, 64, 62, 60, 65, 58, 57, 64, 49, 59, 59, 59, 67, 59, 55, 57, 57, 65, 61, 58, 59, 61, 61, 59, 64, 56, 58, 59, 64, 57, 56, 60, 61, 57, 59, 53, 59, 56, 58, 63], 'cardiovascular': [37, 34, 24, 38, 35, 38, 37, 32, 35, 36, 35, 31, 42, 47, 32, 30, 34, 30, 39, 35, 50, 40, 50, 30, 37, 50, 33, 39, 40, 39, 43, 39, 24, 36, 43, 34, 23, 33, 29, 40, 30, 29, 32, 42, 44, 41, 41, 35, 33, 29, 34, 56, 22, 34, 24, 37, 52, 24, 29, 34, 40, 52, 35, 41, 13, 38, 31, 30, 30, 35, 45, 44, 27, 43, 28, 35, 36, 0, 55, 41, 73, 16, 38, 28, 30, 32, 25, 41, 35, 24, 33, 28, 70, 48, 37, 44, 38, 35, 29, 46, 35, 39, 41, 31, 23, 44, 64, 33, 50, 25, 34, 30, 37, 42, 49, 82, 77, 36, 78, 47, 42, 45, 56, 36, 32, 36, 27, 39, 31, 29, 36, 32, 32, 28, 25, 29, 47, 34, 29, 38, 33, 44, 39, 22, 40, 45, 33, 78, 31, 46, 46, 30, 100, 51, 44, 43, 31, 37, 47, 36, 32, 34, 31, 19, 28, 14, 31, 0, 44, 28, 28, 46, 25, 31, 31, 28, 31, 26, 33, 28, 27, 52, 10, 27, 31, 57, 19, 27, 29, 0, 44, 31, 35, 33, 27, 29, 25, 30, 23, 22, 31, 26, 37, 27, 31, 24, 29, 42, 38, 33], 'stroke': [83, 53, 71, 62, 61, 66, 58, 71, 73, 67, 65, 54, 65, 79, 65, 62, 73, 64, 71, 76, 75, 59, 74, 75, 62, 69, 70, 63, 53, 74, 75, 84, 66, 63, 67, 63, 73, 95, 62, 69, 87, 73, 64, 64, 67, 84, 74, 67, 70, 69, 83, 71, 88, 95, 88, 67, 67, 71, 69, 81, 64, 68, 72, 89, 65, 68, 69, 78, 70, 77, 77, 75, 74, 84, 73, 83, 59, 84, 76, 69, 85, 72, 79, 81, 63, 58, 70, 75, 67, 84, 66, 63, 88, 77, 68, 66, 64, 59, 79, 72, 55, 75, 65, 57, 74, 78, 81, 73, 84, 56, 67, 54, 49, 72, 75, 84, 68, 57, 74, 86, 79, 90, 68, 70, 64, 65, 69, 78, 77, 71, 74, 73, 68, 67, 65, 61, 70, 73, 96, 70, 62, 70, 76, 82, 73, 74, 80, 73, 80, 90, 83, 83, 76, 67, 72, 74, 64, 86, 77, 84, 79, 81, 74, 80, 67, 72, 86, 100, 48, 59, 61, 64, 79, 79, 78, 70, 78, 59, 71, 73, 70, 53, 75, 93, 68, 55, 74, 64, 65, 0, 58, 75, 76, 55, 70, 53, 60, 69, 77, 63, 62, 81, 57, 55, 55, 60, 64, 61, 76, 77], 'depression': [64, 56, 69, 46, 62, 61, 62, 60, 65, 69, 64, 54, 60, 72, 66, 62, 72, 56, 60, 58, 61, 63, 61, 72, 54, 62, 66, 66, 45, 61, 60, 67, 65, 65, 51, 61, 71, 72, 61, 53, 66, 69, 63, 73, 59, 62, 69, 71, 54, 70, 58, 71, 100, 68, 73, 62, 67, 60, 74, 82, 61, 55, 69, 74, 72, 65, 63, 71, 58, 50, 66, 72, 60, 58, 72, 73, 70, 85, 66, 67, 60, 82, 62, 68, 60, 59, 65, 65, 71, 66, 61, 65, 72, 65, 66, 65, 62, 53, 66, 57, 52, 76, 64, 58, 65, 56, 61, 76, 64, 53, 62, 54, 55, 67, 68, 58, 54, 57, 63, 65, 63, 49, 66, 71, 61, 64, 58, 50, 69, 64, 60, 54, 64, 60, 61, 57, 64, 68, 74, 63, 63, 68, 53, 58, 65, 61, 66, 59, 71, 69, 63, 61, 60, 60, 72, 62, 64, 69, 71, 75, 62, 79, 35, 59, 54, 58, 55, 59, 59, 54, 68, 59, 70, 53, 71, 58, 74, 59, 65, 63, 59, 67, 64, 66, 66, 60, 61, 63, 64, 0, 60, 59, 67, 58, 52, 52, 62, 60, 63, 56, 58, 59, 59, 66, 52, 59, 55, 68, 63, 61], 'rehab': [56, 53, 44, 60, 75, 57, 72, 47, 72, 43, 52, 43, 56, 54, 61, 48, 60, 50, 68, 46, 58, 55, 56, 63, 48, 52, 51, 49, 47, 82, 58, 55, 54, 76, 62, 49, 58, 57, 45, 71, 45, 61, 44, 73, 47, 53, 47, 57, 77, 45, 53, 63, 66, 55, 56, 45, 47, 65, 50, 51, 51, 87, 44, 61, 42, 65, 59, 65, 48, 57, 84, 51, 53, 54, 72, 44, 26, 45, 64, 39, 72, 77, 56, 46, 51, 45, 60, 57, 47, 61, 59, 45, 37, 62, 36, 57, 43, 40, 58, 55, 50, 38, 45, 76, 72, 71, 79, 35, 68, 51, 48, 51, 43, 38, 45, 76, 62, 53, 55, 58, 84, 97, 48, 61, 48, 56, 60, 64, 62, 37, 66, 100, 92, 38, 74, 77, 68, 40, 41, 50, 42, 44, 61, 36, 69, 51, 90, 79, 34, 45, 54, 65, 53, 60, 42, 70, 51, 41, 46, 70, 75, 26, 38, 28, 39, 19, 53, 32, 29, 47, 68, 61, 46, 33, 50, 65, 40, 80, 31, 45, 55, 39, 58, 42, 50, 36, 43, 49, 45, 0, 26, 40, 43, 37, 40, 28, 34, 43, 40, 42, 44, 39, 37, 28, 52, 28, 36, 36, 59, 43], 'vaccine': [76, 79, 77, 47, 84, 73, 76, 66, 86, 62, 71, 79, 79, 76, 70, 74, 85, 63, 70, 76, 67, 77, 63, 90, 65, 54, 73, 78, 60, 74, 78, 91, 76, 87, 60, 74, 70, 88, 76, 70, 72, 77, 72, 79, 75, 72, 69, 74, 69, 99, 74, 87, 80, 82, 80, 80, 71, 72, 78, 85, 80, 69, 70, 80, 71, 88, 68, 84, 55, 62, 80, 88, 70, 70, 83, 77, 83, 63, 91, 70, 100, 79, 90, 70, 64, 69, 73, 81, 81, 68, 73, 64, 98, 61, 80, 74, 67, 74, 67, 62, 64, 74, 92, 69, 71, 58, 65, 91, 72, 67, 85, 76, 60, 76, 71, 66, 58, 71, 64, 58, 47, 44, 74, 67, 74, 79, 73, 56, 70, 74, 78, 71, 80, 83, 73, 61, 62, 79, 78, 76, 80, 62, 64, 64, 65, 61, 69, 64, 83, 76, 74, 52, 70, 66, 64, 63, 65, 76, 89, 78, 68, 95, 59, 85, 78, 76, 56, 83, 53, 71, 73, 72, 78, 85, 87, 70, 77, 75, 68, 88, 69, 70, 91, 70, 68, 65, 68, 78, 71, 0, 61, 80, 84, 65, 56, 69, 78, 74, 76, 80, 67, 77, 80, 72, 60, 76, 75, 61, 89, 85], 'diarrhea': [66, 56, 78, 53, 69, 70, 58, 70, 79, 73, 73, 55, 66, 76, 74, 74, 75, 65, 69, 69, 69, 68, 68, 68, 65, 73, 81, 74, 46, 77, 68, 89, 72, 65, 65, 76, 84, 67, 72, 69, 75, 91, 80, 72, 69, 74, 69, 80, 65, 87, 67, 69, 75, 75, 100, 72, 63, 85, 94, 90, 65, 70, 72, 94, 83, 77, 72, 69, 69, 64, 76, 82, 82, 79, 83, 79, 61, 95, 66, 74, 67, 90, 98, 88, 81, 66, 82, 81, 77, 78, 72, 76, 87, 79, 66, 71, 68, 61, 80, 70, 61, 68, 75, 76, 84, 81, 70, 87, 89, 77, 84, 63, 62, 77, 72, 80, 65, 71, 72, 76, 94, 68, 76, 83, 77, 75, 77, 71, 85, 74, 76, 74, 77, 73, 78, 59, 69, 72, 69, 72, 70, 79, 72, 81, 86, 71, 74, 73, 71, 76, 80, 86, 75, 68, 91, 70, 71, 80, 75, 78, 97, 80, 80, 67, 63, 80, 66, 70, 59, 66, 77, 70, 66, 92, 65, 68, 65, 85, 75, 64, 66, 66, 69, 75, 69, 71, 66, 73, 68, 0, 77, 65, 61, 61, 78, 50, 72, 68, 66, 63, 59, 55, 61, 51, 65, 56, 66, 73, 70, 75], 'obesity': [47, 52, 61, 41, 56, 45, 58, 44, 52, 49, 51, 59, 67, 63, 52, 49, 57, 47, 52, 45, 61, 48, 62, 59, 48, 47, 58, 58, 49, 52, 54, 50, 48, 62, 41, 49, 45, 78, 58, 45, 48, 67, 49, 72, 52, 58, 73, 57, 49, 46, 54, 63, 58, 43, 43, 62, 56, 41, 37, 61, 58, 47, 51, 58, 43, 45, 48, 69, 42, 42, 62, 65, 49, 39, 50, 54, 82, 0, 77, 53, 94, 42, 50, 44, 42, 49, 52, 86, 61, 50, 48, 37, 100, 38, 53, 50, 56, 44, 45, 50, 39, 60, 81, 0, 45, 45, 49, 62, 54, 32, 38, 43, 56, 72, 52, 53, 49, 44, 41, 39, 37, 86, 77, 51, 49, 66, 51, 29, 31, 51, 50, 53, 31, 55, 47, 52, 56, 53, 66, 49, 60, 51, 46, 47, 37, 35, 58, 52, 82, 59, 47, 51, 43, 57, 67, 72, 60, 57, 61, 66, 52, 67, 0, 50, 51, 51, 37, 0, 40, 50, 42, 50, 61, 40, 36, 54, 71, 47, 47, 46, 64, 53, 46, 45, 54, 48, 56, 55, 49, 0, 51, 86, 47, 53, 47, 45, 48, 54, 40, 46, 58, 50, 56, 64, 42, 53, 55, 63, 62, 53], 'diabetes\\n': [80, 78, 72, 66, 78, 74, 74, 74, 79, 81, 75, 73, 85, 76, 76, 74, 83, 71, 80, 75, 79, 74, 83, 68, 72, 81, 80, 82, 70, 82, 80, 84, 74, 84, 73, 76, 80, 87, 72, 77, 68, 87, 83, 75, 80, 78, 83, 81, 74, 75, 75, 78, 77, 67, 85, 82, 82, 74, 73, 79, 79, 76, 72, 92, 68, 73, 73, 74, 73, 71, 80, 72, 74, 72, 75, 73, 78, 78, 82, 71, 92, 83, 89, 97, 82, 71, 70, 90, 73, 79, 75, 73, 100, 84, 75, 79, 74, 74, 77, 73, 69, 76, 79, 84, 71, 89, 81, 88, 85, 79, 73, 73, 96, 79, 84, 95, 84, 90, 65, 64, 70, 100, 78, 75, 76, 78, 77, 65, 80, 63, 81, 89, 88, 73, 80, 80, 81, 81, 85, 79, 77, 78, 72, 76, 77, 75, 80, 77, 73, 76, 81, 84, 95, 66, 79, 86, 70, 81, 87, 71, 75, 78, 56, 81, 80, 80, 83, 97, 84, 66, 73, 78, 69, 80, 81, 81, 95, 80, 69, 81, 74, 82, 93, 80, 75, 80, 72, 79, 80, 0, 78, 79, 66, 74, 81, 67, 80, 69, 79, 71, 73, 61, 76, 67, 70, 63, 76, 77, 75, 73]}\n"
     ]
    }
   ],
   "source": [
    "def read_into_memory(file_path):\n",
    "    \"\"\"\n",
    "    Reads all columns from a CSV file into a dictionary.\n",
    "\n",
    "    Args:\n",
    "        file_path (str): The path to the CSV file.\n",
    "\n",
    "    Returns:\n",
    "        dict: A dictionary where keys are column headers and values are lists of column values.\n",
    "    \"\"\"\n",
    "    # Initializing a flag to read all columns\n",
    "    flag = True\n",
    "\n",
    "    # Initializing an output dictionary\n",
    "    output = {}\n",
    "\n",
    "    # Initializing a column counter\n",
    "    i = 0\n",
    "\n",
    "    # Looping until all columns are captured\n",
    "    while flag:\n",
    "        try:\n",
    "            # Attempting to read a column using the read_a_column function\n",
    "            key, value = read_a_column(file_path, i)\n",
    "\n",
    "            # Incrementing the column counter\n",
    "            i += 1\n",
    "\n",
    "            # Adding the column to the output dictionary\n",
    "            output[key] = value\n",
    "\n",
    "        except IndexError:\n",
    "            # If an IndexError occurs, indicating the end of columns, return the output dictionary\n",
    "            return output\n",
    "\n",
    "# Example usage\n",
    "csv_data = read_into_memory('task1.csv')\n",
    "print(csv_data)\n",
    "            \n",
    "\n",
    "          "
   ]
  },
  {
   "cell_type": "markdown",
   "metadata": {
    "deletable": false
   },
   "source": [
    "### Requirement FR3 - Develop a function to calculate the Kendall Tau Correlation Coefficient for two lists of data"
   ]
  },
  {
   "cell_type": "code",
   "execution_count": 12,
   "metadata": {
    "deletable": false
   },
   "outputs": [
    {
     "name": "stdout",
     "output_type": "stream",
     "text": [
      "1.0\n",
      "-0.0769\n"
     ]
    }
   ],
   "source": [
    "def kendalltau(list1, list2):\n",
    "    \"\"\"Calculate the Kendall Tau correlation coefficient for two lists.\"\"\"\n",
    "\n",
    "    class LengthError(Exception):\n",
    "        \"\"\"Error for lists of different lengths.\"\"\"\n",
    "        pass\n",
    "\n",
    "    if len(list1) != len(list2):\n",
    "        raise LengthError(\"Error: The input lists must have the same length.\")\n",
    "\n",
    "    len_list = len(list1)\n",
    "    concordant_count = discordant_count = 0\n",
    "\n",
    "    # Nested loops to compare pairs of elements\n",
    "    for i in range(len_list):\n",
    "        for j in range(i + 1, len_list):\n",
    "            if (list1[i] < list1[j]) and (list2[i] < list2[j]):\n",
    "                concordant_count += 1\n",
    "            elif (list1[i] > list1[j]) and (list2[i] > list2[j]):\n",
    "                discordant_count += 1\n",
    "\n",
    "    total_pairs = concordant_count + discordant_count\n",
    "\n",
    "    # Handle division by zero =)\n",
    "    if total_pairs == 0:\n",
    "        tau = 0\n",
    "    else:\n",
    "        tau = (concordant_count - discordant_count) / total_pairs\n",
    "\n",
    "    return round(tau, 4)\n",
    "\n",
    "# Example usage\n",
    "list1 = [1, 2, 3, 4, 5, 6, 7, 8]\n",
    "list2 = [21, 22, 23, 24, 25, 26, 27, 28]\n",
    "result = kendalltau(list1, list2)\n",
    "print(result)\n",
    "\n",
    "list1=[9, 5, 6, 1, 8, 7, 3]\n",
    "list2=[3, 0, 7, 2, 6, 5, 4]\n",
    "print(kendalltau(list1,list2))"
   ]
  },
  {
   "cell_type": "markdown",
   "metadata": {
    "deletable": false
   },
   "source": [
    "### Requirement FR4 - Develop a function to generate a set of Kendall Tau Correlation Coefficients for a data structure like the one generated in FR2"
   ]
  },
  {
   "cell_type": "code",
   "execution_count": 14,
   "metadata": {
    "deletable": false
   },
   "outputs": [
    {
     "name": "stdout",
     "output_type": "stream",
     "text": [
      "[('cancer', 'cardiovascular', -0.4722), ('cancer', 'stroke', -0.3218), ('cancer', 'depression', -0.4089), ('cancer', 'rehab', -0.5048), ('cancer', 'vaccine', -0.3972), ('cancer', 'diarrhea', -0.3893), ('cancer', 'obesity', -0.3918), ('cancer', 'diabetes\\n', -0.3628), ('cardiovascular', 'stroke', -0.1191), ('cardiovascular', 'depression', -0.2484), ('cardiovascular', 'rehab', -0.3161), ('cardiovascular', 'vaccine', -0.2254), ('cardiovascular', 'diarrhea', -0.2261), ('cardiovascular', 'obesity', -0.1478), ('cardiovascular', 'diabetes\\n', -0.1345), ('stroke', 'depression', -0.0842), ('stroke', 'rehab', -0.1971), ('stroke', 'vaccine', -0.0573), ('stroke', 'diarrhea', -0.0607), ('stroke', 'obesity', -0.0307), ('stroke', 'diabetes\\n', -0.0134), ('depression', 'rehab', -0.3494), ('depression', 'vaccine', -0.1386), ('depression', 'diarrhea', -0.1491), ('depression', 'obesity', -0.1196), ('depression', 'diabetes\\n', -0.1206), ('rehab', 'vaccine', -0.3203), ('rehab', 'diarrhea', -0.2734), ('rehab', 'obesity', -0.2796), ('rehab', 'diabetes\\n', -0.2246), ('vaccine', 'diarrhea', -0.1445), ('vaccine', 'obesity', -0.0837), ('vaccine', 'diabetes\\n', -0.0845), ('diarrhea', 'obesity', -0.1323), ('diarrhea', 'diabetes\\n', -0.0956), ('obesity', 'diabetes\\n', -0.0546)]\n",
      "36\n"
     ]
    }
   ],
   "source": [
    "def calculate_kendalltau_correlations(column_data):\n",
    "    \"\"\"Calculate Kendall Tau Correlation Coefficients for all pairs of columns.\"\"\"\n",
    "    \n",
    "    occupied_pairs = []  # to avoid redundant correlations\n",
    "    correlations = []    # list to store correlation results\n",
    "    \n",
    "    for key1, value1 in column_data.items():\n",
    "        for key2, value2 in column_data.items():\n",
    "            if (key1 != key2) and ({key1, key2} not in occupied_pairs):\n",
    "                tau = kendalltau(value1, value2)\n",
    "                correlations.append((key1, key2, tau))\n",
    "                occupied_pairs.append({key2, key1})\n",
    "    \n",
    "    return correlations\n",
    "\n",
    "# Example usage\n",
    "set_of_correlations = calculate_kendalltau_correlations(read_into_memory('task1.csv'))\n",
    "print(set_of_correlations)\n",
    "print(len(set_of_correlations))\n"
   ]
  },
  {
   "cell_type": "markdown",
   "metadata": {
    "deletable": false
   },
   "source": [
    "### Requirement FR5 - Develop a function to print a custom table for selected data from a data structure like the one generated in FR4"
   ]
  },
  {
   "cell_type": "code",
   "execution_count": 25,
   "metadata": {
    "deletable": false,
    "scrolled": false
   },
   "outputs": [
    {
     "name": "stdout",
     "output_type": "stream",
     "text": [
      "                .    cancer    .cardiovascular.   obesity    .   vaccine    .    rehab     .\n",
      "............................................................................................\n",
      ".     cancer    .      -       .   -0.4722    .   -0.3918    .   -0.3972    .   -0.5048    .\n",
      "\n",
      ". cardiovascular.   -0.4722    .      -       .   -0.1478    .   -0.2254    .   -0.3161    .\n",
      "\n",
      ".    obesity    .   -0.3918    .   -0.1478    .      -       .   -0.0837    .   -0.2796    .\n",
      "\n",
      ".    vaccine    .   -0.3972    .   -0.2254    .   -0.0837    .      -       .   -0.3203    .\n",
      "\n",
      ".     rehab     .   -0.5048    .   -0.3161    .   -0.2796    .   -0.3203    .      -       .\n",
      "\n",
      "..........................................................................................\n"
     ]
    }
   ],
   "source": [
    "def print_kendalltau_correlation_table(correlations, border, columns):\n",
    "    \"\"\"Print a table of Kendall Tau Correlation Coefficients.\"\"\"\n",
    "    \n",
    "    max_len = max(len(col) for col in columns)\n",
    "\n",
    "    # Print header row\n",
    "    header_row = f'{\" \".center(max_len + 2)}' + ''.join([f'{border}{col.center(max_len)}' for col in columns]) + border\n",
    "    print(header_row)\n",
    "\n",
    "    # Print border\n",
    "    print(border * ((max_len + 1) * (len(columns) + 1) + 2))\n",
    "\n",
    "    for col1 in columns:\n",
    "        corr_collect = []\n",
    "        table_row = f'{border}{col1.center(max_len + 1)}{border}'  # First column of each row\n",
    "\n",
    "        for col2 in columns:\n",
    "            if col1 == col2:\n",
    "                corr = '-'  # Placeholder for the same column\n",
    "            else:\n",
    "                for i in range(len(correlations)):\n",
    "                    if (\n",
    "                        (col1 == correlations[i][0] or col1 == correlations[i][1]) and\n",
    "                        (col2 == correlations[i][0] or col2 == correlations[i][1]) and\n",
    "                        (correlations[i][2] not in corr_collect)\n",
    "                    ):\n",
    "                        corr = correlations[i][2]\n",
    "                        corr_collect.append(corr)\n",
    "\n",
    "            table_row += f'{str(corr).center(max_len)}{border}'\n",
    "\n",
    "        print(table_row+'\\n')\n",
    "\n",
    "    # Print bottom border\n",
    "    print(border * ((max_len + 1) * (len(columns) + 1)))\n",
    "\n",
    "# Example usage\n",
    "print_kendalltau_correlation_table(set_of_correlations, '.', ['cancer', 'cardiovascular', 'obesity', 'vaccine', 'rehab'])"
   ]
  },
  {
   "cell_type": "code",
   "execution_count": null,
   "metadata": {},
   "outputs": [],
   "source": []
  }
 ],
 "metadata": {
  "kernelspec": {
   "display_name": "Python 3 (ipykernel)",
   "language": "python",
   "name": "python3"
  },
  "language_info": {
   "codemirror_mode": {
    "name": "ipython",
    "version": 3
   },
   "file_extension": ".py",
   "mimetype": "text/x-python",
   "name": "python",
   "nbconvert_exporter": "python",
   "pygments_lexer": "ipython3",
   "version": "3.10.9"
  }
 },
 "nbformat": 4,
 "nbformat_minor": 4
}
